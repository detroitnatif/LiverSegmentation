{
 "cells": [
  {
   "cell_type": "code",
   "execution_count": 114,
   "id": "e5080997",
   "metadata": {},
   "outputs": [],
   "source": [
    "import os\n",
    "from glob import glob\n",
    "import shutil\n",
    "from tqdm import tqdm\n",
    "# import dicom2nifti\n",
    "import numpy as np\n",
    "import nibabel as nib\n",
    "from monai.transforms import(\n",
    "    Compose,\n",
    "    # AddChannel,\n",
    "    LoadImaged,\n",
    "    Resized,\n",
    "    ToTensord,\n",
    "    Spacingd,\n",
    "    Orientationd,\n",
    "    ScaleIntensityRanged,\n",
    "    CropForegroundd,\n",
    ")\n",
    "from monai.data import DataLoader, Dataset, CacheDataset\n",
    "from monai.utils import set_determinism"
   ]
  },
  {
   "cell_type": "code",
   "execution_count": 79,
   "id": "fb8bfaaa",
   "metadata": {},
   "outputs": [],
   "source": [
    "# def create_groups(in_dir, out_dir, Number_slices):\n",
    "#     '''\n",
    "#     This function is to get the last part of the path so that we can use it to name the folder.\n",
    "#     `in_dir`: the path to your folders that contain dicom files\n",
    "#     `out_dir`: the path where you want to put the converted nifti files\n",
    "#     `Number_slices`: here you put the number of slices that you need for your project and it will \n",
    "#     create groups with this number.\n",
    "#     '''\n",
    "\n",
    "#     for patient in glob(in_dir + '/*'):\n",
    "#         patient_name = os.path.basename(os.path.normpath(patient))\n",
    "\n",
    "#         # Here we need to calculate the number of folders which mean into how many groups we will divide the number of slices\n",
    "#         number_folders = int(len(glob(patient + '/*')) / Number_slices)\n",
    "\n",
    "#         for i in range(number_folders):\n",
    "#             output_path = os.path.join(out_dir, patient_name + '_' + str(i))\n",
    "#             os.mkdir(output_path)\n",
    "\n",
    "#             # Move the slices into a specific folder so that you will save memory in your desk\n",
    "#             for i, file in enumerate(glob(patient + '/*')):\n",
    "#                 if i == Number_slices + 1:\n",
    "#                     break\n",
    "                \n",
    "#                 shutil.move(file, output_path)"
   ]
  },
  {
   "cell_type": "code",
   "execution_count": 4,
   "id": "62659004",
   "metadata": {},
   "outputs": [],
   "source": [
    "# create_groups('/Users/tylerklimas/Desktop/LiverSegmentation/LiverSegmentationData', '/Users/tylerklimas/Desktop/LiverSegmentation/LiverSegmentationData/groups', 3)"
   ]
  },
  {
   "cell_type": "code",
   "execution_count": 107,
   "id": "2e10e6c5",
   "metadata": {},
   "outputs": [],
   "source": [
    "in_dir = '/Users/tylerklimas/desktop/liversegmentation/task03_liver'\n",
    "\n",
    "def sort_by_liver_number(file_path):\n",
    "    # Extract the number from the file name\n",
    "    file_name = os.path.basename(file_path)\n",
    "    liver_number = int(file_name.split('_')[1].split('.')[0])\n",
    "    return liver_number\n",
    "\n",
    "folders = glob(in_dir +'/*')\n",
    "\n",
    "training_images = sorted(glob(in_dir + '/ImagesTr' + \"/*\" ))\n",
    "training_labels = sorted(glob(in_dir + '/LabelsTr' + \"/*\" ))\n",
    "\n",
    "\n",
    "training_images = sorted(training_images, key=sort_by_liver_number)[:99]\n",
    "training_labels = sorted(training_labels, key=sort_by_liver_number)[:99]\n",
    "\n",
    "testing_images = sorted(training_images, key=sort_by_liver_number)[100:]\n",
    "testing_labels = sorted(training_labels, key=sort_by_liver_number)[100:]\n",
    "\n",
    "\n",
    "\n"
   ]
  },
  {
   "cell_type": "code",
   "execution_count": 111,
   "id": "53b33a40",
   "metadata": {},
   "outputs": [
    {
     "name": "stdout",
     "output_type": "stream",
     "text": [
      "<monai.data.dataloader.DataLoader object at 0x7fe15be4f070>\n"
     ]
    },
    {
     "data": {
      "text/plain": [
       "(<monai.data.dataloader.DataLoader at 0x7fe15be4f070>,\n",
       " <monai.data.dataloader.DataLoader at 0x7fe15be4d790>)"
      ]
     },
     "execution_count": 111,
     "metadata": {},
     "output_type": "execute_result"
    }
   ],
   "source": [
    "def prepare(in_dir, pixdim=(1.5, 1.5, 1.0), a_min=-200, a_max=200, spatial_size=[128,128,64], cache=False):\n",
    "\n",
    "    \"\"\"\n",
    "    This function is for preprocessing, it contains only the basic transforms, but you can add more operations that you \n",
    "    find in the Monai documentation.\n",
    "    https://monai.io/docs.html\n",
    "    \"\"\"\n",
    "    \n",
    "\n",
    "\n",
    "\n",
    "    train_files = [{\"vol\": image_name, \"seg\": label_name} for image_name, label_name in zip(training_images, training_labels)]\n",
    "    test_files = [{'vol': image_name, \"seg\": label_name} for image_name, label_name in zip(testing_images, testing_labels)]\n",
    "    \n",
    "    train_transforms = Compose(\n",
    "        [\n",
    "            LoadImaged(keys=[\"vol\", \"seg\"]),\n",
    "            # AddChanneld(keys=[\"vol\", \"seg\"]),\n",
    "            Spacingd(keys=[\"vol\", \"seg\"], pixdim=pixdim, mode=(\"bilinear\", \"nearest\")),\n",
    "            Orientationd(keys=[\"vol\", \"seg\"], axcodes=\"RAS\"),\n",
    "            ScaleIntensityRanged(keys=[\"vol\"], a_min=a_min, a_max=a_max, b_min=0.0, b_max=1.0, clip=True), \n",
    "            CropForegroundd(keys=[\"vol\", \"seg\"], source_key=\"vol\"),\n",
    "            Resized(keys=[\"vol\", \"seg\"], spatial_size=spatial_size),   \n",
    "            ToTensord(keys=[\"vol\", \"seg\"]),\n",
    "\n",
    "        ]\n",
    "    )\n",
    "\n",
    "\n",
    "    test_transforms = Compose(\n",
    "        [\n",
    "            LoadImaged(keys=[\"vol\", \"seg\"]),\n",
    "            # AddChanneld(keys=[\"vol\", \"seg\"]),\n",
    "            Spacingd(keys=[\"vol\", \"seg\"], pixdim=pixdim, mode=(\"bilinear\", \"nearest\")),\n",
    "            Orientationd(keys=[\"vol\", \"seg\"], axcodes=\"RAS\"),\n",
    "            ScaleIntensityRanged(keys=[\"vol\"], a_min=a_min, a_max=a_max,b_min=0.0, b_max=1.0, clip=True), \n",
    "            CropForegroundd(keys=['vol', 'seg'], source_key='vol', allow_smaller=False),\n",
    "            Resized(keys=[\"vol\", \"seg\"], spatial_size=spatial_size),   \n",
    "            ToTensord(keys=[\"vol\", \"seg\"]),\n",
    "\n",
    "            \n",
    "        ]\n",
    "    )\n",
    "\n",
    "    if cache:\n",
    "        train_ds = CacheDataset(data=train_files, transform=train_transforms,cache_rate=1.0)\n",
    "        train_loader = DataLoader(train_ds, batch_size=1)\n",
    "\n",
    "        test_ds = CacheDataset(data=test_files, transform=test_transforms, cache_rate=1.0)\n",
    "        test_loader = DataLoader(test_ds, batch_size=1)\n",
    "\n",
    "        return train_loader, test_loader\n",
    "\n",
    "    else:\n",
    "        train_ds = Dataset(data=train_files, transform=train_transforms)\n",
    "        train_loader = DataLoader(train_ds, batch_size=1)\n",
    "\n",
    "        test_ds = Dataset(data=test_files, transform=test_transforms)\n",
    "        test_loader = DataLoader(test_ds, batch_size=1)\n",
    "        print(train_loader)\n",
    "        return train_loader, test_loader\n",
    "        \n",
    "\n",
    "\n",
    "prepare(in_dir = '/Users/tylerklimas/desktop/liversegmentation/task03_liver')"
   ]
  },
  {
   "cell_type": "code",
   "execution_count": null,
   "id": "9567f89c",
   "metadata": {},
   "outputs": [],
   "source": [
    "def find_empy(in_dir):\n",
    "    '''\n",
    "    This function will help you to find the empty volumes that you may not need for your training\n",
    "    so instead of opening all the files and search for the empty ones, them use this function to make it quick.\n",
    "    '''\n",
    "    \n",
    "    list_patients = []\n",
    "    for patient in glob(os.path.join(in_dir, '*')):\n",
    "        img = nib.load(patient)\n",
    "\n",
    "        if len(np.unique(img.get_fdata())) > 2:\n",
    "            print(os.path.basename(os.path.normpath(patient)))\n",
    "            list_patients.append(os.path.basename(os.path.normpath(patient)))\n",
    "    \n",
    "    return list_patients\n",
    "find_empy(in_dir = '/Users/tylerklimas/desktop/liversegmentation/task03_liver/ImagesTr')"
   ]
  },
  {
   "cell_type": "code",
   "execution_count": 123,
   "id": "b6193aae",
   "metadata": {},
   "outputs": [
    {
     "name": "stdout",
     "output_type": "stream",
     "text": [
      "<monai.data.dataloader.DataLoader object at 0x7fdfa7444460>\n"
     ]
    }
   ],
   "source": [
    "train_loader, test_loader = prepare(in_dir='/Users/tylerklimas/Desktop/LiverSegmentation/Task03_liver')\n"
   ]
  },
  {
   "cell_type": "code",
   "execution_count": null,
   "id": "304586fb",
   "metadata": {},
   "outputs": [],
   "source": []
  }
 ],
 "metadata": {
  "kernelspec": {
   "display_name": "Python 3 (ipykernel)",
   "language": "python",
   "name": "python3"
  },
  "language_info": {
   "codemirror_mode": {
    "name": "ipython",
    "version": 3
   },
   "file_extension": ".py",
   "mimetype": "text/x-python",
   "name": "python",
   "nbconvert_exporter": "python",
   "pygments_lexer": "ipython3",
   "version": "3.9.13"
  }
 },
 "nbformat": 4,
 "nbformat_minor": 5
}
