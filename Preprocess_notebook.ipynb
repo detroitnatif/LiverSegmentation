{
 "cells": [
  {
   "cell_type": "code",
   "execution_count": 1,
   "id": "a1675f8f",
   "metadata": {},
   "outputs": [],
   "source": [
    "import os\n",
    "from glob import glob\n",
    "import shutil\n",
    "from tqdm import tqdm\n",
    "# import dicom2nifti\n",
    "import numpy as np\n",
    "# import nibabel as nib\n",
    "from monai.transforms import(\n",
    "    Compose,\n",
    "    # AddChannel,\n",
    "    LoadImaged,\n",
    "    Resized,\n",
    "    ToTensord,\n",
    "    Spacingd,\n",
    "    Orientationd,\n",
    "    ScaleIntensityRanged,\n",
    "    CropForegroundd,\n",
    ")\n",
    "from monai.data import DataLoader, Dataset, CacheDataset\n",
    "from monai.utils import set_determinism"
   ]
  },
  {
   "cell_type": "code",
   "execution_count": 2,
   "id": "991853f8",
   "metadata": {},
   "outputs": [],
   "source": [
    "def create_groups(in_dir, out_dir, Number_slices):\n",
    "    '''\n",
    "    This function is to get the last part of the path so that we can use it to name the folder.\n",
    "    `in_dir`: the path to your folders that contain dicom files\n",
    "    `out_dir`: the path where you want to put the converted nifti files\n",
    "    `Number_slices`: here you put the number of slices that you need for your project and it will \n",
    "    create groups with this number.\n",
    "    '''\n",
    "\n",
    "    for patient in glob(in_dir + '/*'):\n",
    "        patient_name = os.path.basename(os.path.normpath(patient))\n",
    "\n",
    "        # Here we need to calculate the number of folders which mean into how many groups we will divide the number of slices\n",
    "        number_folders = int(len(glob(patient + '/*')) / Number_slices)\n",
    "\n",
    "        for i in range(number_folders):\n",
    "            output_path = os.path.join(out_dir, patient_name + '_' + str(i))\n",
    "            os.mkdir(output_path)\n",
    "\n",
    "            # Move the slices into a specific folder so that you will save memory in your desk\n",
    "            for i, file in enumerate(glob(patient + '/*')):\n",
    "                if i == Number_slices + 1:\n",
    "                    break\n",
    "                \n",
    "                shutil.move(file, output_path)"
   ]
  },
  {
   "cell_type": "code",
   "execution_count": 4,
   "id": "0f9a4736",
   "metadata": {},
   "outputs": [],
   "source": [
    "create_groups('/Users/tylerklimas/Desktop/LiverSegmentation/LiverSegmentationData', '/Users/tylerklimas/Desktop/LiverSegmentation/LiverSegmentationData/groups', 3)"
   ]
  },
  {
   "cell_type": "code",
   "execution_count": 40,
   "id": "75b1203f",
   "metadata": {},
   "outputs": [
    {
     "name": "stdout",
     "output_type": "stream",
     "text": [
      "56\n",
      "<monai.data.dataloader.DataLoader object at 0x7fe15b3e6b20>\n"
     ]
    },
    {
     "data": {
      "text/plain": [
       "(<monai.data.dataloader.DataLoader at 0x7fe15b3e6b20>,\n",
       " <monai.data.dataloader.DataLoader at 0x7fe15b3e6a00>)"
      ]
     },
     "execution_count": 40,
     "metadata": {},
     "output_type": "execute_result"
    }
   ],
   "source": [
    "def prepare(in_dir, pixdim=(1.5, 1.5, 1.0), a_min=-200, a_max=200, spatial_size=[128,128,64], cache=False):\n",
    "\n",
    "    \"\"\"\n",
    "    This function is for preprocessing, it contains only the basic transforms, but you can add more operations that you \n",
    "    find in the Monai documentation.\n",
    "    https://monai.io/docs.html\n",
    "    \"\"\"\n",
    "    files = sorted(os.listdir(in_dir))\n",
    "    print(len(files))\n",
    "#     print(\"Files in Directory:\", files)\n",
    "    set_determinism(seed=0)\n",
    "\n",
    "    path_train_volumes = sorted(glob(os.path.join(in_dir, \"groups\", \"*.nii\")))\n",
    "#     print(path_train_volumes)\n",
    "    \n",
    "    path_train_segmentation = sorted(glob(os.path.join(in_dir, \"groups\", \"*.nii\")))\n",
    "\n",
    "    path_test_volumes = sorted(glob(os.path.join(in_dir, \"groups\", \"*.nii.gz\")))\n",
    "    path_test_segmentation = sorted(glob(os.path.join(in_dir, \"groups\", \"*.nii.gz\")))\n",
    "\n",
    "    train_files = [{\"vol\": image_name, \"seg\": label_name} for image_name, label_name in zip(files, files)]\n",
    "    test_files = [{\"vol\": image_name, \"seg\": label_name} for image_name, label_name in zip(path_test_volumes, path_test_segmentation)]\n",
    "    \n",
    "#     print(train_files)\n",
    "    train_transforms = Compose(\n",
    "        [\n",
    "            LoadImaged(keys=[\"vol\", \"seg\"]),\n",
    "            # AddChanneld(keys=[\"vol\", \"seg\"]),\n",
    "            Spacingd(keys=[\"vol\", \"seg\"], pixdim=pixdim, mode=(\"bilinear\", \"nearest\")),\n",
    "            Orientationd(keys=[\"vol\", \"seg\"], axcodes=\"RAS\"),\n",
    "            ScaleIntensityRanged(keys=[\"vol\"], a_min=a_min, a_max=a_max, b_min=0.0, b_max=1.0, clip=True), \n",
    "            CropForegroundd(keys=[\"vol\", \"seg\"], source_key=\"vol\"),\n",
    "            Resized(keys=[\"vol\", \"seg\"], spatial_size=spatial_size),   \n",
    "            ToTensord(keys=[\"vol\", \"seg\"]),\n",
    "\n",
    "        ]\n",
    "    )\n",
    "\n",
    "\n",
    "    test_transforms = Compose(\n",
    "        [\n",
    "            LoadImaged(keys=[\"vol\", \"seg\"]),\n",
    "            # AddChanneld(keys=[\"vol\", \"seg\"]),\n",
    "            Spacingd(keys=[\"vol\", \"seg\"], pixdim=pixdim, mode=(\"bilinear\", \"nearest\")),\n",
    "            Orientationd(keys=[\"vol\", \"seg\"], axcodes=\"RAS\"),\n",
    "            ScaleIntensityRanged(keys=[\"vol\"], a_min=a_min, a_max=a_max,b_min=0.0, b_max=1.0, clip=True), \n",
    "            CropForegroundd(keys=['vol', 'seg'], source_key='vol', allow_smaller=False),\n",
    "            Resized(keys=[\"vol\", \"seg\"], spatial_size=spatial_size),   \n",
    "            ToTensord(keys=[\"vol\", \"seg\"]),\n",
    "\n",
    "            \n",
    "        ]\n",
    "    )\n",
    "\n",
    "    if cache:\n",
    "        train_ds = CacheDataset(data=train_files, transform=train_transforms,cache_rate=1.0)\n",
    "        train_loader = DataLoader(train_ds, batch_size=1)\n",
    "\n",
    "        test_ds = CacheDataset(data=test_files, transform=test_transforms, cache_rate=1.0)\n",
    "        test_loader = DataLoader(test_ds, batch_size=1)\n",
    "\n",
    "        return train_loader, test_loader\n",
    "\n",
    "    else:\n",
    "        train_ds = Dataset(data=train_files, transform=train_transforms)\n",
    "        train_loader = DataLoader(train_ds, batch_size=1)\n",
    "\n",
    "        test_ds = Dataset(data=test_files, transform=test_transforms)\n",
    "        test_loader = DataLoader(test_ds, batch_size=1)\n",
    "        print(train_loader)\n",
    "        return train_loader, test_loader\n",
    "        \n",
    "\n",
    "\n",
    "prepare(in_dir='/Users/tylerklimas/Desktop/LiverSegmentation/LiverSegmentationData/groups/') "
   ]
  },
  {
   "cell_type": "code",
   "execution_count": 19,
   "id": "03b13ed0",
   "metadata": {},
   "outputs": [],
   "source": [
    "train_loader, test_loader = prepare(in_dir='/Users/tylerklimas/Desktop/LiverSegmentation/LiverSegmentationData') \n"
   ]
  },
  {
   "cell_type": "code",
   "execution_count": 24,
   "id": "2e08b604",
   "metadata": {},
   "outputs": [
    {
     "data": {
      "text/plain": [
       "[]"
      ]
     },
     "execution_count": 24,
     "metadata": {},
     "output_type": "execute_result"
    }
   ],
   "source": [
    "data = list(train_loader)\n",
    "data\n"
   ]
  },
  {
   "cell_type": "code",
   "execution_count": null,
   "id": "7ace3546",
   "metadata": {},
   "outputs": [],
   "source": []
  }
 ],
 "metadata": {
  "kernelspec": {
   "display_name": "Python 3 (ipykernel)",
   "language": "python",
   "name": "python3"
  },
  "language_info": {
   "codemirror_mode": {
    "name": "ipython",
    "version": 3
   },
   "file_extension": ".py",
   "mimetype": "text/x-python",
   "name": "python",
   "nbconvert_exporter": "python",
   "pygments_lexer": "ipython3",
   "version": "3.9.13"
  }
 },
 "nbformat": 4,
 "nbformat_minor": 5
}
